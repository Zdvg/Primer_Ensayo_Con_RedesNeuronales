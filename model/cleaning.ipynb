{
 "cells": [
  {
   "cell_type": "code",
   "execution_count": 1,
   "metadata": {},
   "outputs": [],
   "source": [
    "import pandas as pd"
   ]
  },
  {
   "cell_type": "code",
   "execution_count": 3,
   "metadata": {},
   "outputs": [],
   "source": [
    "import csv"
   ]
  },
  {
   "cell_type": "code",
   "execution_count": 14,
   "metadata": {},
   "outputs": [],
   "source": [
    "df_pollution = pd.read_csv('../data/most-polluted-countries.csv',  delimiter=',')"
   ]
  },
  {
   "cell_type": "code",
   "execution_count": 15,
   "metadata": {},
   "outputs": [
    {
     "name": "stdout",
     "output_type": "stream",
     "text": [
      "    pollution_2023  pollution_growth_Rate   country_name  ccn3 country_region  \\\n",
      "0       1428627663                0.00808          India   356           Asia   \n",
      "1       1425671352               -0.00015          China   156           Asia   \n",
      "2        339996563                0.00505  United States   840  North America   \n",
      "3        277534122                0.00738      Indonesia   360           Asia   \n",
      "4        240485658                0.01976       Pakistan   586           Asia   \n",
      "..             ...                    ...            ...   ...            ...   \n",
      "91          704149                0.01292          Macau   446           Asia   \n",
      "92          654768                0.01107     Luxembourg   442         Europe   \n",
      "93          535064                0.00333          Malta   470         Europe   \n",
      "94          412623                0.00644        Bahamas    44  North America   \n",
      "95          375318                0.00649        Iceland   352         Europe   \n",
      "\n",
      "    united_nation_Member  country_land_Area_in_Km  pollution_density_in_km  \\\n",
      "0                   True                2973190.0                 480.5033   \n",
      "1                   True                9424702.9                 151.2696   \n",
      "2                   True                9147420.0                  37.1686   \n",
      "3                   True                1877519.0                 147.8196   \n",
      "4                   True                 770880.0                 311.9625   \n",
      "..                   ...                      ...                      ...   \n",
      "91                 False                     32.9               21402.7052   \n",
      "92                  True                   2574.5                 254.3282   \n",
      "93                  True                    320.0                1672.0750   \n",
      "94                  True                  10010.0                  41.2211   \n",
      "95                  True                 100830.0                   3.7223   \n",
      "\n",
      "    pollution_density_per_Mile  \\\n",
      "0                    1244.5036   \n",
      "1                     391.7884   \n",
      "2                      96.2666   \n",
      "3                     382.8528   \n",
      "4                     807.9829   \n",
      "..                         ...   \n",
      "91                  55433.0064   \n",
      "92                    658.7101   \n",
      "93                   4330.6743   \n",
      "94                    106.7626   \n",
      "95                      9.6407   \n",
      "\n",
      "                                        share_borders  pollution_Rank  \\\n",
      "0              AFG, BGD, BTN, MMR, CHN, NPL, PAK, LKA               1   \n",
      "1   AFG, BTN, MMR, HKG, IND, KAZ, PRK, KGZ, LAO, M...               2   \n",
      "2                                            CAN, MEX               3   \n",
      "3                                       TLS, MYS, PNG               4   \n",
      "4                                  AFG, CHN, IND, IRN               5   \n",
      "..                                                ...             ...   \n",
      "91                                                CHN             167   \n",
      "92                                      BEL, FRA, DEU             168   \n",
      "93                                                NaN             173   \n",
      "94                                                NaN             176   \n",
      "95                                                NaN             179   \n",
      "\n",
      "    mostPollutedCountries_particlePollution  \n",
      "0                                     58.08  \n",
      "1                                     39.12  \n",
      "2                                      9.04  \n",
      "3                                     51.71  \n",
      "4                                     65.81  \n",
      "..                                      ...  \n",
      "91                                    23.50  \n",
      "92                                     9.60  \n",
      "93                                     9.40  \n",
      "94                                     3.30  \n",
      "95                                     5.55  \n",
      "\n",
      "[96 rows x 12 columns]\n"
     ]
    }
   ],
   "source": [
    "print(df_pollution)"
   ]
  },
  {
   "cell_type": "markdown",
   "metadata": {},
   "source": [
    "LIMPIEZA DE LOS DATOS"
   ]
  },
  {
   "cell_type": "code",
   "execution_count": 16,
   "metadata": {},
   "outputs": [
    {
     "data": {
      "text/plain": [
       "96"
      ]
     },
     "execution_count": 16,
     "metadata": {},
     "output_type": "execute_result"
    }
   ],
   "source": [
    "len(df_pollution)"
   ]
  },
  {
   "cell_type": "code",
   "execution_count": 17,
   "metadata": {},
   "outputs": [
    {
     "data": {
      "text/plain": [
       "85"
      ]
     },
     "execution_count": 17,
     "metadata": {},
     "output_type": "execute_result"
    }
   ],
   "source": [
    "df_pollution_l = df_pollution.dropna(how='any')\n",
    "len(df_pollution_l)"
   ]
  },
  {
   "cell_type": "code",
   "execution_count": 18,
   "metadata": {},
   "outputs": [
    {
     "data": {
      "text/plain": [
       "pollution_2023                               int64\n",
       "pollution_growth_Rate                      float64\n",
       "country_name                                object\n",
       "ccn3                                         int64\n",
       "country_region                              object\n",
       "united_nation_Member                          bool\n",
       "country_land_Area_in_Km                    float64\n",
       "pollution_density_in_km                    float64\n",
       "pollution_density_per_Mile                 float64\n",
       "share_borders                               object\n",
       "pollution_Rank                               int64\n",
       "mostPollutedCountries_particlePollution    float64\n",
       "dtype: object"
      ]
     },
     "execution_count": 18,
     "metadata": {},
     "output_type": "execute_result"
    }
   ],
   "source": [
    "df_pollution_l.dtypes"
   ]
  },
  {
   "cell_type": "markdown",
   "metadata": {},
   "source": [
    "Visión general del dataset"
   ]
  },
  {
   "cell_type": "code",
   "execution_count": 19,
   "metadata": {},
   "outputs": [
    {
     "data": {
      "text/plain": [
       "Index(['pollution_2023', 'pollution_growth_Rate', 'country_name', 'ccn3',\n",
       "       'country_region', 'united_nation_Member', 'country_land_Area_in_Km',\n",
       "       'pollution_density_in_km', 'pollution_density_per_Mile',\n",
       "       'share_borders', 'pollution_Rank',\n",
       "       'mostPollutedCountries_particlePollution'],\n",
       "      dtype='object')"
      ]
     },
     "execution_count": 19,
     "metadata": {},
     "output_type": "execute_result"
    }
   ],
   "source": [
    "df_pollution_l.columns"
   ]
  },
  {
   "cell_type": "code",
   "execution_count": 20,
   "metadata": {},
   "outputs": [
    {
     "data": {
      "text/html": [
       "<div>\n",
       "<style scoped>\n",
       "    .dataframe tbody tr th:only-of-type {\n",
       "        vertical-align: middle;\n",
       "    }\n",
       "\n",
       "    .dataframe tbody tr th {\n",
       "        vertical-align: top;\n",
       "    }\n",
       "\n",
       "    .dataframe thead th {\n",
       "        text-align: right;\n",
       "    }\n",
       "</style>\n",
       "<table border=\"1\" class=\"dataframe\">\n",
       "  <thead>\n",
       "    <tr style=\"text-align: right;\">\n",
       "      <th></th>\n",
       "      <th>pollution_2023</th>\n",
       "      <th>pollution_growth_Rate</th>\n",
       "      <th>ccn3</th>\n",
       "      <th>country_land_Area_in_Km</th>\n",
       "      <th>pollution_density_in_km</th>\n",
       "      <th>pollution_density_per_Mile</th>\n",
       "      <th>pollution_Rank</th>\n",
       "      <th>mostPollutedCountries_particlePollution</th>\n",
       "    </tr>\n",
       "  </thead>\n",
       "  <tbody>\n",
       "    <tr>\n",
       "      <th>count</th>\n",
       "      <td>8.500000e+01</td>\n",
       "      <td>85.000000</td>\n",
       "      <td>85.000000</td>\n",
       "      <td>8.500000e+01</td>\n",
       "      <td>85.000000</td>\n",
       "      <td>85.000000</td>\n",
       "      <td>85.000000</td>\n",
       "      <td>85.000000</td>\n",
       "    </tr>\n",
       "    <tr>\n",
       "      <th>mean</th>\n",
       "      <td>8.000584e+07</td>\n",
       "      <td>0.007225</td>\n",
       "      <td>407.964706</td>\n",
       "      <td>1.126018e+06</td>\n",
       "      <td>473.763959</td>\n",
       "      <td>1227.048653</td>\n",
       "      <td>67.576471</td>\n",
       "      <td>23.184824</td>\n",
       "    </tr>\n",
       "    <tr>\n",
       "      <th>std</th>\n",
       "      <td>2.202662e+08</td>\n",
       "      <td>0.014071</td>\n",
       "      <td>252.197317</td>\n",
       "      <td>2.556999e+06</td>\n",
       "      <td>2425.377190</td>\n",
       "      <td>6281.726918</td>\n",
       "      <td>48.562031</td>\n",
       "      <td>14.513310</td>\n",
       "    </tr>\n",
       "    <tr>\n",
       "      <th>min</th>\n",
       "      <td>6.547680e+05</td>\n",
       "      <td>-0.074480</td>\n",
       "      <td>4.000000</td>\n",
       "      <td>3.290000e+01</td>\n",
       "      <td>2.213300</td>\n",
       "      <td>5.732300</td>\n",
       "      <td>1.000000</td>\n",
       "      <td>5.630000</td>\n",
       "    </tr>\n",
       "    <tr>\n",
       "      <th>25%</th>\n",
       "      <td>7.149077e+06</td>\n",
       "      <td>0.000850</td>\n",
       "      <td>196.000000</td>\n",
       "      <td>6.949000e+04</td>\n",
       "      <td>46.944700</td>\n",
       "      <td>121.586800</td>\n",
       "      <td>25.000000</td>\n",
       "      <td>13.300000</td>\n",
       "    </tr>\n",
       "    <tr>\n",
       "      <th>50%</th>\n",
       "      <td>2.189358e+07</td>\n",
       "      <td>0.006910</td>\n",
       "      <td>380.000000</td>\n",
       "      <td>2.419300e+05</td>\n",
       "      <td>102.079400</td>\n",
       "      <td>264.385600</td>\n",
       "      <td>61.000000</td>\n",
       "      <td>20.200000</td>\n",
       "    </tr>\n",
       "    <tr>\n",
       "      <th>75%</th>\n",
       "      <td>5.887076e+07</td>\n",
       "      <td>0.013850</td>\n",
       "      <td>620.000000</td>\n",
       "      <td>9.107700e+05</td>\n",
       "      <td>151.269600</td>\n",
       "      <td>391.788400</td>\n",
       "      <td>105.000000</td>\n",
       "      <td>25.510000</td>\n",
       "    </tr>\n",
       "    <tr>\n",
       "      <th>max</th>\n",
       "      <td>1.428628e+09</td>\n",
       "      <td>0.049800</td>\n",
       "      <td>860.000000</td>\n",
       "      <td>1.637687e+07</td>\n",
       "      <td>21402.705200</td>\n",
       "      <td>55433.006400</td>\n",
       "      <td>168.000000</td>\n",
       "      <td>83.300000</td>\n",
       "    </tr>\n",
       "  </tbody>\n",
       "</table>\n",
       "</div>"
      ],
      "text/plain": [
       "       pollution_2023  pollution_growth_Rate        ccn3  \\\n",
       "count    8.500000e+01              85.000000   85.000000   \n",
       "mean     8.000584e+07               0.007225  407.964706   \n",
       "std      2.202662e+08               0.014071  252.197317   \n",
       "min      6.547680e+05              -0.074480    4.000000   \n",
       "25%      7.149077e+06               0.000850  196.000000   \n",
       "50%      2.189358e+07               0.006910  380.000000   \n",
       "75%      5.887076e+07               0.013850  620.000000   \n",
       "max      1.428628e+09               0.049800  860.000000   \n",
       "\n",
       "       country_land_Area_in_Km  pollution_density_in_km  \\\n",
       "count             8.500000e+01                85.000000   \n",
       "mean              1.126018e+06               473.763959   \n",
       "std               2.556999e+06              2425.377190   \n",
       "min               3.290000e+01                 2.213300   \n",
       "25%               6.949000e+04                46.944700   \n",
       "50%               2.419300e+05               102.079400   \n",
       "75%               9.107700e+05               151.269600   \n",
       "max               1.637687e+07             21402.705200   \n",
       "\n",
       "       pollution_density_per_Mile  pollution_Rank  \\\n",
       "count                   85.000000       85.000000   \n",
       "mean                  1227.048653       67.576471   \n",
       "std                   6281.726918       48.562031   \n",
       "min                      5.732300        1.000000   \n",
       "25%                    121.586800       25.000000   \n",
       "50%                    264.385600       61.000000   \n",
       "75%                    391.788400      105.000000   \n",
       "max                  55433.006400      168.000000   \n",
       "\n",
       "       mostPollutedCountries_particlePollution  \n",
       "count                                85.000000  \n",
       "mean                                 23.184824  \n",
       "std                                  14.513310  \n",
       "min                                   5.630000  \n",
       "25%                                  13.300000  \n",
       "50%                                  20.200000  \n",
       "75%                                  25.510000  \n",
       "max                                  83.300000  "
      ]
     },
     "execution_count": 20,
     "metadata": {},
     "output_type": "execute_result"
    }
   ],
   "source": [
    "df_pollution_l.describe()"
   ]
  },
  {
   "cell_type": "markdown",
   "metadata": {},
   "source": [
    "Análisis unidimensional  de las variables"
   ]
  },
  {
   "cell_type": "code",
   "execution_count": 21,
   "metadata": {},
   "outputs": [
    {
     "data": {
      "text/plain": [
       "pollution_2023  pollution_growth_Rate  country_name          ccn3  country_region  united_nation_Member  country_land_Area_in_Km  pollution_density_in_km  pollution_density_per_Mile  share_borders                           pollution_Rank  mostPollutedCountries_particlePollution\n",
       "654768           0.01107               Luxembourg            442   Europe          True                  2574.5                   254.3282                 658.7101                    BEL, FRA, DEU                           168             9.60                                       1\n",
       "42239854         0.02702               Afghanistan           4     Asia            True                  652230.0                 64.7622                  167.7341                    IRN, PAK, TKM, UZB, TJK, CHN            36              58.80                                      1\n",
       "54577997         0.00736               Myanmar               104   Asia            True                  652670.0                 83.6227                  216.5827                    BGD, CHN, IND, LAO, THA                 27              31.00                                      1\n",
       "52085168         0.00407               Colombia              170   South America   True                  1109500.0                46.9447                  121.5868                    BRA, ECU, PAN, PER, VEN                 28              14.61                                      1\n",
       "51784059        -0.00061               South Korea           410   Asia            True                  97600.0                  530.5744                 1374.1876                   PRK                                     29              24.78                                      1\n",
       "                                                                                                                                                                                                                                                                                         ..\n",
       "9516871          0.00802               United Arab Emirates  784   Asia            True                  71020.0                  134.0027                 347.0670                    OMN, SAU                                96              38.94                                      1\n",
       "9174520          0.01507               Israel                376   Asia            True                  21640.0                  423.9612                 1098.0595                   EGY, JOR, LBN, SYR                      98              20.83                                      1\n",
       "8958960          0.00216               Austria               40    Europe          True                  82520.0                  108.5671                 281.1889                    CZE, DEU, HUN, ITA, LIE, SVK, SVN, CHE  100             12.17                                      1\n",
       "8796669          0.00643               Switzerland           756   Europe          True                  39516.0                  222.6103                 576.5607                    AUT, FRA, ITA, LIE, DEU                 101             10.89                                      1\n",
       "1428627663       0.00808               India                 356   Asia            True                  2973190.0                480.5033                 1244.5036                   AFG, BGD, BTN, MMR, CHN, NPL, PAK, LKA  1               58.08                                      1\n",
       "Name: count, Length: 85, dtype: int64"
      ]
     },
     "execution_count": 21,
     "metadata": {},
     "output_type": "execute_result"
    }
   ],
   "source": [
    "df_pollution_l.value_counts()"
   ]
  },
  {
   "cell_type": "code",
   "execution_count": 28,
   "metadata": {},
   "outputs": [
    {
     "data": {
      "text/plain": [
       "<Axes: >"
      ]
     },
     "execution_count": 28,
     "metadata": {},
     "output_type": "execute_result"
    },
    {
     "data": {
      "image/png": "[encoded data removed]",
      "text/plain": [
       "<Figure size 640x480 with 1 Axes>"
      ]
     },
     "metadata": {},
     "output_type": "display_data"
    }
   ],
   "source": [
    "df_pollution_l['ccn3'].hist()"
   ]
  }
 ],
 "metadata": {
  "kernelspec": {
   "display_name": "Python 3",
   "language": "python",
   "name": "python3"
  },
  "language_info": {
   "codemirror_mode": {
    "name": "ipython",
    "version": 3
   },
   "file_extension": ".py",
   "mimetype": "text/x-python",
   "name": "python",
   "nbconvert_exporter": "python",
   "pygments_lexer": "ipython3",
   "version": "3.11.7"
  }
 },
 "nbformat": 4,
 "nbformat_minor": 2
}
